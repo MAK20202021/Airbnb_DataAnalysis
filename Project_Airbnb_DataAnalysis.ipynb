{
 "cells": [
  {
   "cell_type": "markdown",
   "metadata": {},
   "source": [
    "# Airbnb Data Analysis: Loading Data"
   ]
  },
  {
   "cell_type": "code",
   "execution_count": 24,
   "metadata": {},
   "outputs": [],
   "source": [
    "# Project with Airbnb Data \n",
    "\n",
    "import numpy as np\n",
    "import pandas as pd\n",
    "import matplotlib.pyplot as plt\n",
    "import seaborn as sns\n",
    "from datetime import datetime\n",
    "from pandas import DataFrame\n",
    "from datetime import date, timedelta, datetime\n",
    "\n",
    "import calendar as c\n",
    "\n",
    "from sklearn.linear_model import LinearRegression\n",
    "from sklearn.model_selection import train_test_split\n",
    "from sklearn.metrics import r2_score, mean_squared_error\n",
    "\n",
    "%matplotlib inline\n",
    "\n",
    "## Loading Boston Airbnb Data\n",
    "df_Boscal = pd.read_csv('./Boston_Airbnb/calendar.csv')\n",
    "df_Boslist = pd.read_csv('./Boston_Airbnb/listings.csv')\n",
    "df_Bosrev = pd.read_csv('./Boston_Airbnb/reviews.csv')\n",
    "\n",
    "## Loading Seattle Airbnb Data\n",
    "df_Seacal = pd.read_csv('./Seattle_Airbnb/calendar.csv')\n",
    "df_Sealist = pd.read_csv('./Seattle_Airbnb/listings.csv')\n",
    "df_Searev = pd.read_csv('./Seattle_Airbnb/reviews.csv')"
   ]
  },
  {
   "cell_type": "markdown",
   "metadata": {},
   "source": [
    "# Look at the Data"
   ]
  },
  {
   "cell_type": "code",
   "execution_count": 25,
   "metadata": {},
   "outputs": [
    {
     "data": {
      "text/plain": [
       "Index(['listing_id', 'date', 'available', 'price'], dtype='object')"
      ]
     },
     "execution_count": 25,
     "metadata": {},
     "output_type": "execute_result"
    }
   ],
   "source": [
    "df_Boscal.columns"
   ]
  },
  {
   "cell_type": "code",
   "execution_count": 26,
   "metadata": {},
   "outputs": [
    {
     "data": {
      "text/plain": [
       "Index(['id', 'listing_url', 'scrape_id', 'last_scraped', 'name', 'summary',\n",
       "       'space', 'description', 'experiences_offered', 'neighborhood_overview',\n",
       "       'notes', 'transit', 'access', 'interaction', 'house_rules',\n",
       "       'thumbnail_url', 'medium_url', 'picture_url', 'xl_picture_url',\n",
       "       'host_id', 'host_url', 'host_name', 'host_since', 'host_location',\n",
       "       'host_about', 'host_response_time', 'host_response_rate',\n",
       "       'host_acceptance_rate', 'host_is_superhost', 'host_thumbnail_url',\n",
       "       'host_picture_url', 'host_neighbourhood', 'host_listings_count',\n",
       "       'host_total_listings_count', 'host_verifications',\n",
       "       'host_has_profile_pic', 'host_identity_verified', 'street',\n",
       "       'neighbourhood', 'neighbourhood_cleansed',\n",
       "       'neighbourhood_group_cleansed', 'city', 'state', 'zipcode', 'market',\n",
       "       'smart_location', 'country_code', 'country', 'latitude', 'longitude',\n",
       "       'is_location_exact', 'property_type', 'room_type', 'accommodates',\n",
       "       'bathrooms', 'bedrooms', 'beds', 'bed_type', 'amenities', 'square_feet',\n",
       "       'price', 'weekly_price', 'monthly_price', 'security_deposit',\n",
       "       'cleaning_fee', 'guests_included', 'extra_people', 'minimum_nights',\n",
       "       'maximum_nights', 'calendar_updated', 'has_availability',\n",
       "       'availability_30', 'availability_60', 'availability_90',\n",
       "       'availability_365', 'calendar_last_scraped', 'number_of_reviews',\n",
       "       'first_review', 'last_review', 'review_scores_rating',\n",
       "       'review_scores_accuracy', 'review_scores_cleanliness',\n",
       "       'review_scores_checkin', 'review_scores_communication',\n",
       "       'review_scores_location', 'review_scores_value', 'requires_license',\n",
       "       'license', 'jurisdiction_names', 'instant_bookable',\n",
       "       'cancellation_policy', 'require_guest_profile_picture',\n",
       "       'require_guest_phone_verification', 'calculated_host_listings_count',\n",
       "       'reviews_per_month'],\n",
       "      dtype='object')"
      ]
     },
     "execution_count": 26,
     "metadata": {},
     "output_type": "execute_result"
    }
   ],
   "source": [
    "df_Boslist.columns"
   ]
  },
  {
   "cell_type": "code",
   "execution_count": 27,
   "metadata": {},
   "outputs": [
    {
     "data": {
      "text/plain": [
       "Index(['listing_id', 'id', 'date', 'reviewer_id', 'reviewer_name', 'comments'], dtype='object')"
      ]
     },
     "execution_count": 27,
     "metadata": {},
     "output_type": "execute_result"
    }
   ],
   "source": [
    "df_Bosrev.columns"
   ]
  },
  {
   "cell_type": "code",
   "execution_count": 28,
   "metadata": {},
   "outputs": [
    {
     "data": {
      "text/plain": [
       "Index(['listing_id', 'date', 'available', 'price'], dtype='object')"
      ]
     },
     "execution_count": 28,
     "metadata": {},
     "output_type": "execute_result"
    }
   ],
   "source": [
    "df_Seacal.columns"
   ]
  },
  {
   "cell_type": "code",
   "execution_count": 29,
   "metadata": {},
   "outputs": [
    {
     "data": {
      "text/html": [
       "<div>\n",
       "<style scoped>\n",
       "    .dataframe tbody tr th:only-of-type {\n",
       "        vertical-align: middle;\n",
       "    }\n",
       "\n",
       "    .dataframe tbody tr th {\n",
       "        vertical-align: top;\n",
       "    }\n",
       "\n",
       "    .dataframe thead th {\n",
       "        text-align: right;\n",
       "    }\n",
       "</style>\n",
       "<table border=\"1\" class=\"dataframe\">\n",
       "  <thead>\n",
       "    <tr style=\"text-align: right;\">\n",
       "      <th></th>\n",
       "      <th>listing_id</th>\n",
       "      <th>date</th>\n",
       "      <th>available</th>\n",
       "      <th>price</th>\n",
       "    </tr>\n",
       "  </thead>\n",
       "  <tbody>\n",
       "    <tr>\n",
       "      <th>0</th>\n",
       "      <td>12147973</td>\n",
       "      <td>2017-09-05</td>\n",
       "      <td>f</td>\n",
       "      <td>NaN</td>\n",
       "    </tr>\n",
       "    <tr>\n",
       "      <th>1</th>\n",
       "      <td>12147973</td>\n",
       "      <td>2017-09-04</td>\n",
       "      <td>f</td>\n",
       "      <td>NaN</td>\n",
       "    </tr>\n",
       "    <tr>\n",
       "      <th>2</th>\n",
       "      <td>12147973</td>\n",
       "      <td>2017-09-03</td>\n",
       "      <td>f</td>\n",
       "      <td>NaN</td>\n",
       "    </tr>\n",
       "    <tr>\n",
       "      <th>3</th>\n",
       "      <td>12147973</td>\n",
       "      <td>2017-09-02</td>\n",
       "      <td>f</td>\n",
       "      <td>NaN</td>\n",
       "    </tr>\n",
       "    <tr>\n",
       "      <th>4</th>\n",
       "      <td>12147973</td>\n",
       "      <td>2017-09-01</td>\n",
       "      <td>f</td>\n",
       "      <td>NaN</td>\n",
       "    </tr>\n",
       "  </tbody>\n",
       "</table>\n",
       "</div>"
      ],
      "text/plain": [
       "   listing_id        date available price\n",
       "0    12147973  2017-09-05         f   NaN\n",
       "1    12147973  2017-09-04         f   NaN\n",
       "2    12147973  2017-09-03         f   NaN\n",
       "3    12147973  2017-09-02         f   NaN\n",
       "4    12147973  2017-09-01         f   NaN"
      ]
     },
     "execution_count": 29,
     "metadata": {},
     "output_type": "execute_result"
    }
   ],
   "source": [
    "df_Boscal.head()"
   ]
  },
  {
   "cell_type": "code",
   "execution_count": 30,
   "metadata": {},
   "outputs": [
    {
     "data": {
      "text/html": [
       "<div>\n",
       "<style scoped>\n",
       "    .dataframe tbody tr th:only-of-type {\n",
       "        vertical-align: middle;\n",
       "    }\n",
       "\n",
       "    .dataframe tbody tr th {\n",
       "        vertical-align: top;\n",
       "    }\n",
       "\n",
       "    .dataframe thead th {\n",
       "        text-align: right;\n",
       "    }\n",
       "</style>\n",
       "<table border=\"1\" class=\"dataframe\">\n",
       "  <thead>\n",
       "    <tr style=\"text-align: right;\">\n",
       "      <th></th>\n",
       "      <th>listing_id</th>\n",
       "      <th>date</th>\n",
       "      <th>available</th>\n",
       "      <th>price</th>\n",
       "    </tr>\n",
       "  </thead>\n",
       "  <tbody>\n",
       "    <tr>\n",
       "      <th>0</th>\n",
       "      <td>241032</td>\n",
       "      <td>2016-01-04</td>\n",
       "      <td>t</td>\n",
       "      <td>$85.00</td>\n",
       "    </tr>\n",
       "    <tr>\n",
       "      <th>1</th>\n",
       "      <td>241032</td>\n",
       "      <td>2016-01-05</td>\n",
       "      <td>t</td>\n",
       "      <td>$85.00</td>\n",
       "    </tr>\n",
       "    <tr>\n",
       "      <th>2</th>\n",
       "      <td>241032</td>\n",
       "      <td>2016-01-06</td>\n",
       "      <td>f</td>\n",
       "      <td>NaN</td>\n",
       "    </tr>\n",
       "    <tr>\n",
       "      <th>3</th>\n",
       "      <td>241032</td>\n",
       "      <td>2016-01-07</td>\n",
       "      <td>f</td>\n",
       "      <td>NaN</td>\n",
       "    </tr>\n",
       "    <tr>\n",
       "      <th>4</th>\n",
       "      <td>241032</td>\n",
       "      <td>2016-01-08</td>\n",
       "      <td>f</td>\n",
       "      <td>NaN</td>\n",
       "    </tr>\n",
       "  </tbody>\n",
       "</table>\n",
       "</div>"
      ],
      "text/plain": [
       "   listing_id        date available   price\n",
       "0      241032  2016-01-04         t  $85.00\n",
       "1      241032  2016-01-05         t  $85.00\n",
       "2      241032  2016-01-06         f     NaN\n",
       "3      241032  2016-01-07         f     NaN\n",
       "4      241032  2016-01-08         f     NaN"
      ]
     },
     "execution_count": 30,
     "metadata": {},
     "output_type": "execute_result"
    }
   ],
   "source": [
    "df_Seacal.head()"
   ]
  },
  {
   "cell_type": "markdown",
   "metadata": {},
   "source": [
    "# Question1: Evaluate the price Comparison between Boston and Seattle airbnb during first half in a year?"
   ]
  },
  {
   "cell_type": "code",
   "execution_count": 31,
   "metadata": {},
   "outputs": [],
   "source": [
    "#Selecting First six months in a year (January to June)\n",
    "df_Bos_date = df_Boscal[(df_Boscal['date'] > '2017-01-01') & (df_Boscal['date'] <= '2017-06-30')]\n",
    "df_Sea_date = df_Seacal[(df_Seacal['date'] > '2016-01-01') & (df_Seacal['date'] <= '2016-06-30')]"
   ]
  },
  {
   "cell_type": "code",
   "execution_count": 32,
   "metadata": {},
   "outputs": [
    {
     "data": {
      "text/html": [
       "<div>\n",
       "<style scoped>\n",
       "    .dataframe tbody tr th:only-of-type {\n",
       "        vertical-align: middle;\n",
       "    }\n",
       "\n",
       "    .dataframe tbody tr th {\n",
       "        vertical-align: top;\n",
       "    }\n",
       "\n",
       "    .dataframe thead th {\n",
       "        text-align: right;\n",
       "    }\n",
       "</style>\n",
       "<table border=\"1\" class=\"dataframe\">\n",
       "  <thead>\n",
       "    <tr style=\"text-align: right;\">\n",
       "      <th></th>\n",
       "      <th>date</th>\n",
       "      <th>listing_id</th>\n",
       "      <th>price</th>\n",
       "    </tr>\n",
       "  </thead>\n",
       "  <tbody>\n",
       "    <tr>\n",
       "      <th>0</th>\n",
       "      <td>2016-01-04</td>\n",
       "      <td>241032</td>\n",
       "      <td>$85.00</td>\n",
       "    </tr>\n",
       "    <tr>\n",
       "      <th>1</th>\n",
       "      <td>2016-01-05</td>\n",
       "      <td>241032</td>\n",
       "      <td>$85.00</td>\n",
       "    </tr>\n",
       "    <tr>\n",
       "      <th>2</th>\n",
       "      <td>2016-01-06</td>\n",
       "      <td>241032</td>\n",
       "      <td>NaN</td>\n",
       "    </tr>\n",
       "    <tr>\n",
       "      <th>3</th>\n",
       "      <td>2016-01-07</td>\n",
       "      <td>241032</td>\n",
       "      <td>NaN</td>\n",
       "    </tr>\n",
       "    <tr>\n",
       "      <th>4</th>\n",
       "      <td>2016-01-08</td>\n",
       "      <td>241032</td>\n",
       "      <td>NaN</td>\n",
       "    </tr>\n",
       "    <tr>\n",
       "      <th>...</th>\n",
       "      <td>...</td>\n",
       "      <td>...</td>\n",
       "      <td>...</td>\n",
       "    </tr>\n",
       "    <tr>\n",
       "      <th>1393379</th>\n",
       "      <td>2016-06-26</td>\n",
       "      <td>10208623</td>\n",
       "      <td>NaN</td>\n",
       "    </tr>\n",
       "    <tr>\n",
       "      <th>1393380</th>\n",
       "      <td>2016-06-27</td>\n",
       "      <td>10208623</td>\n",
       "      <td>NaN</td>\n",
       "    </tr>\n",
       "    <tr>\n",
       "      <th>1393381</th>\n",
       "      <td>2016-06-28</td>\n",
       "      <td>10208623</td>\n",
       "      <td>NaN</td>\n",
       "    </tr>\n",
       "    <tr>\n",
       "      <th>1393382</th>\n",
       "      <td>2016-06-29</td>\n",
       "      <td>10208623</td>\n",
       "      <td>NaN</td>\n",
       "    </tr>\n",
       "    <tr>\n",
       "      <th>1393383</th>\n",
       "      <td>2016-06-30</td>\n",
       "      <td>10208623</td>\n",
       "      <td>NaN</td>\n",
       "    </tr>\n",
       "  </tbody>\n",
       "</table>\n",
       "<p>683422 rows × 3 columns</p>\n",
       "</div>"
      ],
      "text/plain": [
       "               date  listing_id   price\n",
       "0        2016-01-04      241032  $85.00\n",
       "1        2016-01-05      241032  $85.00\n",
       "2        2016-01-06      241032     NaN\n",
       "3        2016-01-07      241032     NaN\n",
       "4        2016-01-08      241032     NaN\n",
       "...             ...         ...     ...\n",
       "1393379  2016-06-26    10208623     NaN\n",
       "1393380  2016-06-27    10208623     NaN\n",
       "1393381  2016-06-28    10208623     NaN\n",
       "1393382  2016-06-29    10208623     NaN\n",
       "1393383  2016-06-30    10208623     NaN\n",
       "\n",
       "[683422 rows x 3 columns]"
      ]
     },
     "execution_count": 32,
     "metadata": {},
     "output_type": "execute_result"
    }
   ],
   "source": [
    "#Select particular columns from both data Sets\n",
    "df_Boscal_L = df_Bos_date[[\"date\",\"listing_id\",\"price\"]]\n",
    "df_Seacal_L = df_Sea_date[[\"date\",\"listing_id\",\"price\"]]\n",
    "df_Seacal_L"
   ]
  },
  {
   "cell_type": "code",
   "execution_count": 33,
   "metadata": {},
   "outputs": [
    {
     "name": "stdout",
     "output_type": "stream",
     "text": [
      "Number of missing price in Boston Data: 314622\n",
      "Number of missing price in Seattle Data: 233672\n"
     ]
    }
   ],
   "source": [
    "# Finding missing values in Price Column\n",
    "m = np.sum(df_Boscal_L.price.isnull())\n",
    "print(\"Number of missing price in Boston Data:\",m)\n",
    "n = np.sum(df_Seacal_L.price.isnull())\n",
    "print(\"Number of missing price in Seattle Data:\",n)"
   ]
  },
  {
   "cell_type": "code",
   "execution_count": 34,
   "metadata": {},
   "outputs": [
    {
     "data": {
      "text/html": [
       "<div>\n",
       "<style scoped>\n",
       "    .dataframe tbody tr th:only-of-type {\n",
       "        vertical-align: middle;\n",
       "    }\n",
       "\n",
       "    .dataframe tbody tr th {\n",
       "        vertical-align: top;\n",
       "    }\n",
       "\n",
       "    .dataframe thead th {\n",
       "        text-align: right;\n",
       "    }\n",
       "</style>\n",
       "<table border=\"1\" class=\"dataframe\">\n",
       "  <thead>\n",
       "    <tr style=\"text-align: right;\">\n",
       "      <th></th>\n",
       "      <th>date</th>\n",
       "      <th>listing_id</th>\n",
       "      <th>price</th>\n",
       "    </tr>\n",
       "  </thead>\n",
       "  <tbody>\n",
       "    <tr>\n",
       "      <th>0</th>\n",
       "      <td>2016-01-04</td>\n",
       "      <td>241032</td>\n",
       "      <td>$85.00</td>\n",
       "    </tr>\n",
       "    <tr>\n",
       "      <th>1</th>\n",
       "      <td>2016-01-05</td>\n",
       "      <td>241032</td>\n",
       "      <td>$85.00</td>\n",
       "    </tr>\n",
       "    <tr>\n",
       "      <th>9</th>\n",
       "      <td>2016-01-13</td>\n",
       "      <td>241032</td>\n",
       "      <td>$85.00</td>\n",
       "    </tr>\n",
       "    <tr>\n",
       "      <th>10</th>\n",
       "      <td>2016-01-14</td>\n",
       "      <td>241032</td>\n",
       "      <td>$85.00</td>\n",
       "    </tr>\n",
       "    <tr>\n",
       "      <th>14</th>\n",
       "      <td>2016-01-18</td>\n",
       "      <td>241032</td>\n",
       "      <td>$85.00</td>\n",
       "    </tr>\n",
       "    <tr>\n",
       "      <th>...</th>\n",
       "      <td>...</td>\n",
       "      <td>...</td>\n",
       "      <td>...</td>\n",
       "    </tr>\n",
       "    <tr>\n",
       "      <th>1393207</th>\n",
       "      <td>2016-01-06</td>\n",
       "      <td>10208623</td>\n",
       "      <td>$87.00</td>\n",
       "    </tr>\n",
       "    <tr>\n",
       "      <th>1393208</th>\n",
       "      <td>2016-01-07</td>\n",
       "      <td>10208623</td>\n",
       "      <td>$87.00</td>\n",
       "    </tr>\n",
       "    <tr>\n",
       "      <th>1393211</th>\n",
       "      <td>2016-01-10</td>\n",
       "      <td>10208623</td>\n",
       "      <td>$87.00</td>\n",
       "    </tr>\n",
       "    <tr>\n",
       "      <th>1393212</th>\n",
       "      <td>2016-01-11</td>\n",
       "      <td>10208623</td>\n",
       "      <td>$87.00</td>\n",
       "    </tr>\n",
       "    <tr>\n",
       "      <th>1393213</th>\n",
       "      <td>2016-01-12</td>\n",
       "      <td>10208623</td>\n",
       "      <td>$87.00</td>\n",
       "    </tr>\n",
       "  </tbody>\n",
       "</table>\n",
       "<p>449750 rows × 3 columns</p>\n",
       "</div>"
      ],
      "text/plain": [
       "               date  listing_id   price\n",
       "0        2016-01-04      241032  $85.00\n",
       "1        2016-01-05      241032  $85.00\n",
       "9        2016-01-13      241032  $85.00\n",
       "10       2016-01-14      241032  $85.00\n",
       "14       2016-01-18      241032  $85.00\n",
       "...             ...         ...     ...\n",
       "1393207  2016-01-06    10208623  $87.00\n",
       "1393208  2016-01-07    10208623  $87.00\n",
       "1393211  2016-01-10    10208623  $87.00\n",
       "1393212  2016-01-11    10208623  $87.00\n",
       "1393213  2016-01-12    10208623  $87.00\n",
       "\n",
       "[449750 rows x 3 columns]"
      ]
     },
     "execution_count": 34,
     "metadata": {},
     "output_type": "execute_result"
    }
   ],
   "source": [
    "#Droping missing values from both Data Sets\n",
    "Bos_Dout = df_Boscal_L.dropna(subset=['price'],axis =0)\n",
    "Sea_Dout = df_Seacal_L.dropna(subset=['price'],axis =0)\n",
    "Sea_Dout"
   ]
  },
  {
   "cell_type": "code",
   "execution_count": 35,
   "metadata": {},
   "outputs": [
    {
     "data": {
      "text/html": [
       "<div>\n",
       "<style scoped>\n",
       "    .dataframe tbody tr th:only-of-type {\n",
       "        vertical-align: middle;\n",
       "    }\n",
       "\n",
       "    .dataframe tbody tr th {\n",
       "        vertical-align: top;\n",
       "    }\n",
       "\n",
       "    .dataframe thead th {\n",
       "        text-align: right;\n",
       "    }\n",
       "</style>\n",
       "<table border=\"1\" class=\"dataframe\">\n",
       "  <thead>\n",
       "    <tr style=\"text-align: right;\">\n",
       "      <th></th>\n",
       "      <th>date</th>\n",
       "      <th>price</th>\n",
       "    </tr>\n",
       "  </thead>\n",
       "  <tbody>\n",
       "    <tr>\n",
       "      <th>0</th>\n",
       "      <td>2016-01-04</td>\n",
       "      <td>$85.00</td>\n",
       "    </tr>\n",
       "    <tr>\n",
       "      <th>1</th>\n",
       "      <td>2016-01-05</td>\n",
       "      <td>$85.00</td>\n",
       "    </tr>\n",
       "    <tr>\n",
       "      <th>9</th>\n",
       "      <td>2016-01-13</td>\n",
       "      <td>$85.00</td>\n",
       "    </tr>\n",
       "    <tr>\n",
       "      <th>10</th>\n",
       "      <td>2016-01-14</td>\n",
       "      <td>$85.00</td>\n",
       "    </tr>\n",
       "    <tr>\n",
       "      <th>14</th>\n",
       "      <td>2016-01-18</td>\n",
       "      <td>$85.00</td>\n",
       "    </tr>\n",
       "    <tr>\n",
       "      <th>...</th>\n",
       "      <td>...</td>\n",
       "      <td>...</td>\n",
       "    </tr>\n",
       "    <tr>\n",
       "      <th>1393207</th>\n",
       "      <td>2016-01-06</td>\n",
       "      <td>$87.00</td>\n",
       "    </tr>\n",
       "    <tr>\n",
       "      <th>1393208</th>\n",
       "      <td>2016-01-07</td>\n",
       "      <td>$87.00</td>\n",
       "    </tr>\n",
       "    <tr>\n",
       "      <th>1393211</th>\n",
       "      <td>2016-01-10</td>\n",
       "      <td>$87.00</td>\n",
       "    </tr>\n",
       "    <tr>\n",
       "      <th>1393212</th>\n",
       "      <td>2016-01-11</td>\n",
       "      <td>$87.00</td>\n",
       "    </tr>\n",
       "    <tr>\n",
       "      <th>1393213</th>\n",
       "      <td>2016-01-12</td>\n",
       "      <td>$87.00</td>\n",
       "    </tr>\n",
       "  </tbody>\n",
       "</table>\n",
       "<p>449750 rows × 2 columns</p>\n",
       "</div>"
      ],
      "text/plain": [
       "               date   price\n",
       "0        2016-01-04  $85.00\n",
       "1        2016-01-05  $85.00\n",
       "9        2016-01-13  $85.00\n",
       "10       2016-01-14  $85.00\n",
       "14       2016-01-18  $85.00\n",
       "...             ...     ...\n",
       "1393207  2016-01-06  $87.00\n",
       "1393208  2016-01-07  $87.00\n",
       "1393211  2016-01-10  $87.00\n",
       "1393212  2016-01-11  $87.00\n",
       "1393213  2016-01-12  $87.00\n",
       "\n",
       "[449750 rows x 2 columns]"
      ]
     },
     "execution_count": 35,
     "metadata": {},
     "output_type": "execute_result"
    }
   ],
   "source": [
    "#Select only date and price from both Data Sets\n",
    "Sel_BOS = Bos_Dout[[\"date\",\"price\"]]\n",
    "Sel_Sea = Sea_Dout[[\"date\",\"price\"]]\n",
    "Sel_Sea"
   ]
  },
  {
   "cell_type": "code",
   "execution_count": 36,
   "metadata": {},
   "outputs": [
    {
     "data": {
      "text/html": [
       "<div>\n",
       "<style scoped>\n",
       "    .dataframe tbody tr th:only-of-type {\n",
       "        vertical-align: middle;\n",
       "    }\n",
       "\n",
       "    .dataframe tbody tr th {\n",
       "        vertical-align: top;\n",
       "    }\n",
       "\n",
       "    .dataframe thead th {\n",
       "        text-align: right;\n",
       "    }\n",
       "</style>\n",
       "<table border=\"1\" class=\"dataframe\">\n",
       "  <thead>\n",
       "    <tr style=\"text-align: right;\">\n",
       "      <th></th>\n",
       "      <th>date</th>\n",
       "      <th>price</th>\n",
       "    </tr>\n",
       "  </thead>\n",
       "  <tbody>\n",
       "    <tr>\n",
       "      <th>418</th>\n",
       "      <td>2017-06-30</td>\n",
       "      <td>$75.00</td>\n",
       "    </tr>\n",
       "    <tr>\n",
       "      <th>419</th>\n",
       "      <td>2017-06-29</td>\n",
       "      <td>$65.00</td>\n",
       "    </tr>\n",
       "    <tr>\n",
       "      <th>420</th>\n",
       "      <td>2017-06-28</td>\n",
       "      <td>$65.00</td>\n",
       "    </tr>\n",
       "    <tr>\n",
       "      <th>421</th>\n",
       "      <td>2017-06-27</td>\n",
       "      <td>$65.00</td>\n",
       "    </tr>\n",
       "    <tr>\n",
       "      <th>422</th>\n",
       "      <td>2017-06-26</td>\n",
       "      <td>$65.00</td>\n",
       "    </tr>\n",
       "    <tr>\n",
       "      <th>...</th>\n",
       "      <td>...</td>\n",
       "      <td>...</td>\n",
       "    </tr>\n",
       "    <tr>\n",
       "      <th>1393207</th>\n",
       "      <td>2016-01-06</td>\n",
       "      <td>$87.00</td>\n",
       "    </tr>\n",
       "    <tr>\n",
       "      <th>1393208</th>\n",
       "      <td>2016-01-07</td>\n",
       "      <td>$87.00</td>\n",
       "    </tr>\n",
       "    <tr>\n",
       "      <th>1393211</th>\n",
       "      <td>2016-01-10</td>\n",
       "      <td>$87.00</td>\n",
       "    </tr>\n",
       "    <tr>\n",
       "      <th>1393212</th>\n",
       "      <td>2016-01-11</td>\n",
       "      <td>$87.00</td>\n",
       "    </tr>\n",
       "    <tr>\n",
       "      <th>1393213</th>\n",
       "      <td>2016-01-12</td>\n",
       "      <td>$87.00</td>\n",
       "    </tr>\n",
       "  </tbody>\n",
       "</table>\n",
       "<p>780608 rows × 2 columns</p>\n",
       "</div>"
      ],
      "text/plain": [
       "               date   price\n",
       "418      2017-06-30  $75.00\n",
       "419      2017-06-29  $65.00\n",
       "420      2017-06-28  $65.00\n",
       "421      2017-06-27  $65.00\n",
       "422      2017-06-26  $65.00\n",
       "...             ...     ...\n",
       "1393207  2016-01-06  $87.00\n",
       "1393208  2016-01-07  $87.00\n",
       "1393211  2016-01-10  $87.00\n",
       "1393212  2016-01-11  $87.00\n",
       "1393213  2016-01-12  $87.00\n",
       "\n",
       "[780608 rows x 2 columns]"
      ]
     },
     "execution_count": 36,
     "metadata": {},
     "output_type": "execute_result"
    }
   ],
   "source": [
    "#Concatenate both Data in one Dataframe\n",
    "df_con = pd.concat([Sel_BOS, Sel_Sea], sort=False)\n",
    "df_con"
   ]
  },
  {
   "cell_type": "code",
   "execution_count": 37,
   "metadata": {},
   "outputs": [],
   "source": [
    "#Convert Date to month and year\n",
    "df_con['month'] = pd.DatetimeIndex(df_con['date']).month\n",
    "df_con['year'] = pd.DatetimeIndex(df_con['date']).year"
   ]
  },
  {
   "cell_type": "code",
   "execution_count": 38,
   "metadata": {},
   "outputs": [
    {
     "data": {
      "text/plain": [
       "418        2017\n",
       "419        2017\n",
       "420        2017\n",
       "421        2017\n",
       "422        2017\n",
       "           ... \n",
       "1393207    2016\n",
       "1393208    2016\n",
       "1393211    2016\n",
       "1393212    2016\n",
       "1393213    2016\n",
       "Name: year, Length: 780608, dtype: int64"
      ]
     },
     "execution_count": 38,
     "metadata": {},
     "output_type": "execute_result"
    }
   ],
   "source": [
    "df_con.year"
   ]
  },
  {
   "cell_type": "code",
   "execution_count": 39,
   "metadata": {},
   "outputs": [
    {
     "data": {
      "text/html": [
       "<div>\n",
       "<style scoped>\n",
       "    .dataframe tbody tr th:only-of-type {\n",
       "        vertical-align: middle;\n",
       "    }\n",
       "\n",
       "    .dataframe tbody tr th {\n",
       "        vertical-align: top;\n",
       "    }\n",
       "\n",
       "    .dataframe thead th {\n",
       "        text-align: right;\n",
       "    }\n",
       "</style>\n",
       "<table border=\"1\" class=\"dataframe\">\n",
       "  <thead>\n",
       "    <tr style=\"text-align: right;\">\n",
       "      <th></th>\n",
       "      <th>date</th>\n",
       "      <th>price</th>\n",
       "      <th>month</th>\n",
       "      <th>year</th>\n",
       "    </tr>\n",
       "  </thead>\n",
       "  <tbody>\n",
       "    <tr>\n",
       "      <th>1393016</th>\n",
       "      <td>2016-06-28</td>\n",
       "      <td>$99.00</td>\n",
       "      <td>6</td>\n",
       "      <td>2016</td>\n",
       "    </tr>\n",
       "    <tr>\n",
       "      <th>1393017</th>\n",
       "      <td>2016-06-29</td>\n",
       "      <td>$99.00</td>\n",
       "      <td>6</td>\n",
       "      <td>2016</td>\n",
       "    </tr>\n",
       "    <tr>\n",
       "      <th>1393018</th>\n",
       "      <td>2016-06-30</td>\n",
       "      <td>$99.00</td>\n",
       "      <td>6</td>\n",
       "      <td>2016</td>\n",
       "    </tr>\n",
       "    <tr>\n",
       "      <th>1393205</th>\n",
       "      <td>2016-01-04</td>\n",
       "      <td>$87.00</td>\n",
       "      <td>1</td>\n",
       "      <td>2016</td>\n",
       "    </tr>\n",
       "    <tr>\n",
       "      <th>1393206</th>\n",
       "      <td>2016-01-05</td>\n",
       "      <td>$87.00</td>\n",
       "      <td>1</td>\n",
       "      <td>2016</td>\n",
       "    </tr>\n",
       "    <tr>\n",
       "      <th>1393207</th>\n",
       "      <td>2016-01-06</td>\n",
       "      <td>$87.00</td>\n",
       "      <td>1</td>\n",
       "      <td>2016</td>\n",
       "    </tr>\n",
       "    <tr>\n",
       "      <th>1393208</th>\n",
       "      <td>2016-01-07</td>\n",
       "      <td>$87.00</td>\n",
       "      <td>1</td>\n",
       "      <td>2016</td>\n",
       "    </tr>\n",
       "    <tr>\n",
       "      <th>1393211</th>\n",
       "      <td>2016-01-10</td>\n",
       "      <td>$87.00</td>\n",
       "      <td>1</td>\n",
       "      <td>2016</td>\n",
       "    </tr>\n",
       "    <tr>\n",
       "      <th>1393212</th>\n",
       "      <td>2016-01-11</td>\n",
       "      <td>$87.00</td>\n",
       "      <td>1</td>\n",
       "      <td>2016</td>\n",
       "    </tr>\n",
       "    <tr>\n",
       "      <th>1393213</th>\n",
       "      <td>2016-01-12</td>\n",
       "      <td>$87.00</td>\n",
       "      <td>1</td>\n",
       "      <td>2016</td>\n",
       "    </tr>\n",
       "  </tbody>\n",
       "</table>\n",
       "</div>"
      ],
      "text/plain": [
       "               date   price  month  year\n",
       "1393016  2016-06-28  $99.00      6  2016\n",
       "1393017  2016-06-29  $99.00      6  2016\n",
       "1393018  2016-06-30  $99.00      6  2016\n",
       "1393205  2016-01-04  $87.00      1  2016\n",
       "1393206  2016-01-05  $87.00      1  2016\n",
       "1393207  2016-01-06  $87.00      1  2016\n",
       "1393208  2016-01-07  $87.00      1  2016\n",
       "1393211  2016-01-10  $87.00      1  2016\n",
       "1393212  2016-01-11  $87.00      1  2016\n",
       "1393213  2016-01-12  $87.00      1  2016"
      ]
     },
     "execution_count": 39,
     "metadata": {},
     "output_type": "execute_result"
    }
   ],
   "source": [
    "df_con.tail(10)"
   ]
  },
  {
   "cell_type": "code",
   "execution_count": 40,
   "metadata": {},
   "outputs": [
    {
     "data": {
      "text/plain": [
       "418         Boston\n",
       "419         Boston\n",
       "420         Boston\n",
       "421         Boston\n",
       "422         Boston\n",
       "            ...   \n",
       "1393207    Seattle\n",
       "1393208    Seattle\n",
       "1393211    Seattle\n",
       "1393212    Seattle\n",
       "1393213    Seattle\n",
       "Name: year, Length: 780608, dtype: object"
      ]
     },
     "execution_count": 40,
     "metadata": {},
     "output_type": "execute_result"
    }
   ],
   "source": [
    "#Relate City Name with year\n",
    "df_con[\"year\"] = df_con.year.replace(2017,\"Boston\")\n",
    "df_con[\"year\"] = df_con.year.replace(2016,\"Seattle\")\n",
    "df_con.year"
   ]
  },
  {
   "cell_type": "code",
   "execution_count": 41,
   "metadata": {},
   "outputs": [
    {
     "data": {
      "text/html": [
       "<div>\n",
       "<style scoped>\n",
       "    .dataframe tbody tr th:only-of-type {\n",
       "        vertical-align: middle;\n",
       "    }\n",
       "\n",
       "    .dataframe tbody tr th {\n",
       "        vertical-align: top;\n",
       "    }\n",
       "\n",
       "    .dataframe thead th {\n",
       "        text-align: right;\n",
       "    }\n",
       "</style>\n",
       "<table border=\"1\" class=\"dataframe\">\n",
       "  <thead>\n",
       "    <tr style=\"text-align: right;\">\n",
       "      <th></th>\n",
       "      <th>date</th>\n",
       "      <th>price</th>\n",
       "      <th>month</th>\n",
       "      <th>year</th>\n",
       "    </tr>\n",
       "  </thead>\n",
       "  <tbody>\n",
       "    <tr>\n",
       "      <th>418</th>\n",
       "      <td>2017-06-30</td>\n",
       "      <td>$75.00</td>\n",
       "      <td>6</td>\n",
       "      <td>Boston</td>\n",
       "    </tr>\n",
       "    <tr>\n",
       "      <th>419</th>\n",
       "      <td>2017-06-29</td>\n",
       "      <td>$65.00</td>\n",
       "      <td>6</td>\n",
       "      <td>Boston</td>\n",
       "    </tr>\n",
       "    <tr>\n",
       "      <th>420</th>\n",
       "      <td>2017-06-28</td>\n",
       "      <td>$65.00</td>\n",
       "      <td>6</td>\n",
       "      <td>Boston</td>\n",
       "    </tr>\n",
       "    <tr>\n",
       "      <th>421</th>\n",
       "      <td>2017-06-27</td>\n",
       "      <td>$65.00</td>\n",
       "      <td>6</td>\n",
       "      <td>Boston</td>\n",
       "    </tr>\n",
       "    <tr>\n",
       "      <th>422</th>\n",
       "      <td>2017-06-26</td>\n",
       "      <td>$65.00</td>\n",
       "      <td>6</td>\n",
       "      <td>Boston</td>\n",
       "    </tr>\n",
       "    <tr>\n",
       "      <th>423</th>\n",
       "      <td>2017-06-25</td>\n",
       "      <td>$65.00</td>\n",
       "      <td>6</td>\n",
       "      <td>Boston</td>\n",
       "    </tr>\n",
       "    <tr>\n",
       "      <th>424</th>\n",
       "      <td>2017-06-24</td>\n",
       "      <td>$75.00</td>\n",
       "      <td>6</td>\n",
       "      <td>Boston</td>\n",
       "    </tr>\n",
       "    <tr>\n",
       "      <th>425</th>\n",
       "      <td>2017-06-23</td>\n",
       "      <td>$75.00</td>\n",
       "      <td>6</td>\n",
       "      <td>Boston</td>\n",
       "    </tr>\n",
       "    <tr>\n",
       "      <th>426</th>\n",
       "      <td>2017-06-22</td>\n",
       "      <td>$65.00</td>\n",
       "      <td>6</td>\n",
       "      <td>Boston</td>\n",
       "    </tr>\n",
       "    <tr>\n",
       "      <th>427</th>\n",
       "      <td>2017-06-21</td>\n",
       "      <td>$65.00</td>\n",
       "      <td>6</td>\n",
       "      <td>Boston</td>\n",
       "    </tr>\n",
       "  </tbody>\n",
       "</table>\n",
       "</div>"
      ],
      "text/plain": [
       "           date   price  month    year\n",
       "418  2017-06-30  $75.00      6  Boston\n",
       "419  2017-06-29  $65.00      6  Boston\n",
       "420  2017-06-28  $65.00      6  Boston\n",
       "421  2017-06-27  $65.00      6  Boston\n",
       "422  2017-06-26  $65.00      6  Boston\n",
       "423  2017-06-25  $65.00      6  Boston\n",
       "424  2017-06-24  $75.00      6  Boston\n",
       "425  2017-06-23  $75.00      6  Boston\n",
       "426  2017-06-22  $65.00      6  Boston\n",
       "427  2017-06-21  $65.00      6  Boston"
      ]
     },
     "execution_count": 41,
     "metadata": {},
     "output_type": "execute_result"
    }
   ],
   "source": [
    "df_con.head(10)"
   ]
  },
  {
   "cell_type": "code",
   "execution_count": 42,
   "metadata": {},
   "outputs": [],
   "source": [
    "#cleaning price column for both data\n",
    "Clean_Data = df_con.copy()\n",
    "Clean_Data['price'] = Clean_Data['price'].astype(str)\n",
    "Clean_Data['price']= Clean_Data['price'].str.replace('$','')\n",
    "Clean_Data['price']= Clean_Data['price'].str.replace(',','')\n",
    "Clean_Data['price'] = Clean_Data['price'].astype(float)"
   ]
  },
  {
   "cell_type": "code",
   "execution_count": 43,
   "metadata": {},
   "outputs": [
    {
     "data": {
      "text/plain": [
       "Index(['date', 'price', 'month', 'City'], dtype='object')"
      ]
     },
     "execution_count": 43,
     "metadata": {},
     "output_type": "execute_result"
    }
   ],
   "source": [
    "#Rename the column name for clear visualization\n",
    "Airbnb_Data = Clean_Data.rename(columns={\"year\":\"City\"})\n",
    "Airbnb_Data.columns"
   ]
  },
  {
   "cell_type": "code",
   "execution_count": 44,
   "metadata": {},
   "outputs": [
    {
     "data": {
      "image/png": "[encoded data removed]",
      "text/plain": [
       "<Figure size 432x288 with 1 Axes>"
      ]
     },
     "metadata": {},
     "output_type": "display_data"
    }
   ],
   "source": [
    "#Comparison of average price between two cities\n",
    "sns.set_theme(style=\"whitegrid\")\n",
    "Bos=sns.barplot(x=\"month\",y=\"price\",hue =\"City\",data=Airbnb_Data)\n",
    "x_axis=np.arange(1,7)\n",
    "xlabels = [c.month_abbr[int(x)] if (x > 0 and x <=7) \n",
    "               else 0  for x in x_axis]\n",
    "Bos.set(xlabel='Months', ylabel='Price ($)')\n",
    "t = Bos.set_xticklabels(xlabels)\n",
    "plt.show()"
   ]
  },
  {
   "cell_type": "markdown",
   "metadata": {},
   "source": [
    "# How the price varies depending on the square feet of the home for both cities?"
   ]
  },
  {
   "cell_type": "code",
   "execution_count": 45,
   "metadata": {},
   "outputs": [
    {
     "data": {
      "text/plain": [
       "Index(['id', 'listing_url', 'scrape_id', 'last_scraped', 'name', 'summary',\n",
       "       'space', 'description', 'experiences_offered', 'neighborhood_overview',\n",
       "       'notes', 'transit', 'access', 'interaction', 'house_rules',\n",
       "       'thumbnail_url', 'medium_url', 'picture_url', 'xl_picture_url',\n",
       "       'host_id', 'host_url', 'host_name', 'host_since', 'host_location',\n",
       "       'host_about', 'host_response_time', 'host_response_rate',\n",
       "       'host_acceptance_rate', 'host_is_superhost', 'host_thumbnail_url',\n",
       "       'host_picture_url', 'host_neighbourhood', 'host_listings_count',\n",
       "       'host_total_listings_count', 'host_verifications',\n",
       "       'host_has_profile_pic', 'host_identity_verified', 'street',\n",
       "       'neighbourhood', 'neighbourhood_cleansed',\n",
       "       'neighbourhood_group_cleansed', 'city', 'state', 'zipcode', 'market',\n",
       "       'smart_location', 'country_code', 'country', 'latitude', 'longitude',\n",
       "       'is_location_exact', 'property_type', 'room_type', 'accommodates',\n",
       "       'bathrooms', 'bedrooms', 'beds', 'bed_type', 'amenities', 'square_feet',\n",
       "       'price', 'weekly_price', 'monthly_price', 'security_deposit',\n",
       "       'cleaning_fee', 'guests_included', 'extra_people', 'minimum_nights',\n",
       "       'maximum_nights', 'calendar_updated', 'has_availability',\n",
       "       'availability_30', 'availability_60', 'availability_90',\n",
       "       'availability_365', 'calendar_last_scraped', 'number_of_reviews',\n",
       "       'first_review', 'last_review', 'review_scores_rating',\n",
       "       'review_scores_accuracy', 'review_scores_cleanliness',\n",
       "       'review_scores_checkin', 'review_scores_communication',\n",
       "       'review_scores_location', 'review_scores_value', 'requires_license',\n",
       "       'license', 'jurisdiction_names', 'instant_bookable',\n",
       "       'cancellation_policy', 'require_guest_profile_picture',\n",
       "       'require_guest_phone_verification', 'calculated_host_listings_count',\n",
       "       'reviews_per_month'],\n",
       "      dtype='object')"
      ]
     },
     "execution_count": 45,
     "metadata": {},
     "output_type": "execute_result"
    }
   ],
   "source": [
    "df_Boslist.columns"
   ]
  },
  {
   "cell_type": "code",
   "execution_count": 46,
   "metadata": {},
   "outputs": [
    {
     "name": "stdout",
     "output_type": "stream",
     "text": [
      "Number of missing square_feet in Boston Data: 3529\n",
      "Number of missing price in Boston Data: 0\n"
     ]
    }
   ],
   "source": [
    "# Finding missing values in Square feet and Price Column\n",
    "m = np.sum(df_Boslist.square_feet.isnull())\n",
    "print(\"Number of missing square_feet in Boston Data:\",m)\n",
    "n = np.sum(df_Boslist.price.isnull())\n",
    "print(\"Number of missing price in Boston Data:\",n)"
   ]
  },
  {
   "cell_type": "code",
   "execution_count": 47,
   "metadata": {},
   "outputs": [
    {
     "name": "stdout",
     "output_type": "stream",
     "text": [
      "Number of missing square_feet in Seattle Data: 3721\n",
      "Number of missing price in Seattle Data: 0\n"
     ]
    }
   ],
   "source": [
    "# Finding missing values in Square feet and Price Column\n",
    "m = np.sum(df_Sealist.square_feet.isnull())\n",
    "print(\"Number of missing square_feet in Seattle Data:\",m)\n",
    "n = np.sum(df_Sealist.price.isnull())\n",
    "print(\"Number of missing price in Seattle Data:\",n)"
   ]
  },
  {
   "cell_type": "code",
   "execution_count": 48,
   "metadata": {},
   "outputs": [],
   "source": [
    "#Droping missing values from both Data Sets\n",
    "LBos_Dout = df_Boslist.dropna(subset=['square_feet'],axis =0)\n",
    "LSea_Dout = df_Sealist.dropna(subset=['square_feet'],axis =0)"
   ]
  },
  {
   "cell_type": "code",
   "execution_count": 49,
   "metadata": {},
   "outputs": [
    {
     "data": {
      "text/html": [
       "<div>\n",
       "<style scoped>\n",
       "    .dataframe tbody tr th:only-of-type {\n",
       "        vertical-align: middle;\n",
       "    }\n",
       "\n",
       "    .dataframe tbody tr th {\n",
       "        vertical-align: top;\n",
       "    }\n",
       "\n",
       "    .dataframe thead th {\n",
       "        text-align: right;\n",
       "    }\n",
       "</style>\n",
       "<table border=\"1\" class=\"dataframe\">\n",
       "  <thead>\n",
       "    <tr style=\"text-align: right;\">\n",
       "      <th></th>\n",
       "      <th>square_feet</th>\n",
       "      <th>price</th>\n",
       "    </tr>\n",
       "  </thead>\n",
       "  <tbody>\n",
       "    <tr>\n",
       "      <th>96</th>\n",
       "      <td>400.0</td>\n",
       "      <td>$89.00</td>\n",
       "    </tr>\n",
       "    <tr>\n",
       "      <th>103</th>\n",
       "      <td>485.0</td>\n",
       "      <td>$97.00</td>\n",
       "    </tr>\n",
       "    <tr>\n",
       "      <th>163</th>\n",
       "      <td>800.0</td>\n",
       "      <td>$120.00</td>\n",
       "    </tr>\n",
       "    <tr>\n",
       "      <th>182</th>\n",
       "      <td>450.0</td>\n",
       "      <td>$95.00</td>\n",
       "    </tr>\n",
       "    <tr>\n",
       "      <th>196</th>\n",
       "      <td>1.0</td>\n",
       "      <td>$180.00</td>\n",
       "    </tr>\n",
       "    <tr>\n",
       "      <th>...</th>\n",
       "      <td>...</td>\n",
       "      <td>...</td>\n",
       "    </tr>\n",
       "    <tr>\n",
       "      <th>3649</th>\n",
       "      <td>340.0</td>\n",
       "      <td>$125.00</td>\n",
       "    </tr>\n",
       "    <tr>\n",
       "      <th>3652</th>\n",
       "      <td>350.0</td>\n",
       "      <td>$68.00</td>\n",
       "    </tr>\n",
       "    <tr>\n",
       "      <th>3654</th>\n",
       "      <td>250.0</td>\n",
       "      <td>$86.00</td>\n",
       "    </tr>\n",
       "    <tr>\n",
       "      <th>3776</th>\n",
       "      <td>660.0</td>\n",
       "      <td>$115.00</td>\n",
       "    </tr>\n",
       "    <tr>\n",
       "      <th>3810</th>\n",
       "      <td>1200.0</td>\n",
       "      <td>$154.00</td>\n",
       "    </tr>\n",
       "  </tbody>\n",
       "</table>\n",
       "<p>97 rows × 2 columns</p>\n",
       "</div>"
      ],
      "text/plain": [
       "      square_feet    price\n",
       "96          400.0   $89.00\n",
       "103         485.0   $97.00\n",
       "163         800.0  $120.00\n",
       "182         450.0   $95.00\n",
       "196           1.0  $180.00\n",
       "...           ...      ...\n",
       "3649        340.0  $125.00\n",
       "3652        350.0   $68.00\n",
       "3654        250.0   $86.00\n",
       "3776        660.0  $115.00\n",
       "3810       1200.0  $154.00\n",
       "\n",
       "[97 rows x 2 columns]"
      ]
     },
     "execution_count": 49,
     "metadata": {},
     "output_type": "execute_result"
    }
   ],
   "source": [
    "#Select only square_feet and price from both Data Sets\n",
    "LSel_BOS = LBos_Dout[[\"square_feet\",\"price\"]]\n",
    "LSel_Sea = LSea_Dout[[\"square_feet\",\"price\"]]\n",
    "LSel_Sea"
   ]
  },
  {
   "cell_type": "code",
   "execution_count": 50,
   "metadata": {},
   "outputs": [],
   "source": [
    "#Clean price columns for both Data sets\n",
    "Clean_Data = LSel_BOS.copy()\n",
    "Clean_Data['price'] = Clean_Data['price'].astype(str)\n",
    "Clean_Data['price']= Clean_Data['price'].str.replace('$','')\n",
    "Clean_Data['price']= Clean_Data['price'].str.replace(',','')\n",
    "Clean_Data['price'] = Clean_Data['price'].astype(float)\n",
    "Clean_Data2 = LSel_Sea.copy()\n",
    "Clean_Data2['price'] = Clean_Data2['price'].astype(str)\n",
    "Clean_Data2['price']= Clean_Data2['price'].str.replace('$','')\n",
    "Clean_Data2['price']= Clean_Data2['price'].str.replace(',','')\n",
    "Clean_Data2['price'] = Clean_Data2['price'].astype(float)"
   ]
  },
  {
   "cell_type": "code",
   "execution_count": 51,
   "metadata": {},
   "outputs": [
    {
     "data": {
      "image/png": "[encoded data removed]",
      "text/plain": [
       "<Figure size 432x288 with 1 Axes>"
      ]
     },
     "metadata": {},
     "output_type": "display_data"
    }
   ],
   "source": [
    "#Plotting Boston Data considering price change with square feet\n",
    "sns.set_theme(style=\"whitegrid\")\n",
    "Bos=sns.lineplot(x=\"square_feet\",y=\"price\",data=Clean_Data)\n",
    "plt.show()"
   ]
  },
  {
   "cell_type": "code",
   "execution_count": 53,
   "metadata": {},
   "outputs": [
    {
     "data": {
      "image/png": "[encoded data removed]",
      "text/plain": [
       "<Figure size 432x288 with 1 Axes>"
      ]
     },
     "metadata": {},
     "output_type": "display_data"
    }
   ],
   "source": [
    "#Plotting Seattle Data considering price change with square feet\n",
    "sns.set_theme(style=\"whitegrid\")\n",
    "Bos=sns.lineplot(x=\"square_feet\",y=\"price\",data=Clean_Data2)\n",
    "plt.show()"
   ]
  },
  {
   "cell_type": "markdown",
   "metadata": {},
   "source": [
    "# Does reviewer score depend on the price considering positive and negative reviews?"
   ]
  },
  {
   "cell_type": "code",
   "execution_count": 54,
   "metadata": {},
   "outputs": [
    {
     "data": {
      "text/plain": [
       "0        NaN\n",
       "1        9.0\n",
       "2       10.0\n",
       "3       10.0\n",
       "4       10.0\n",
       "        ... \n",
       "3580     9.0\n",
       "3581     NaN\n",
       "3582     NaN\n",
       "3583     7.0\n",
       "3584     NaN\n",
       "Name: review_scores_value, Length: 3585, dtype: float64"
      ]
     },
     "execution_count": 54,
     "metadata": {},
     "output_type": "execute_result"
    }
   ],
   "source": [
    "df_Boslist.review_scores_value"
   ]
  },
  {
   "cell_type": "code",
   "execution_count": 55,
   "metadata": {},
   "outputs": [
    {
     "data": {
      "text/html": [
       "<div>\n",
       "<style scoped>\n",
       "    .dataframe tbody tr th:only-of-type {\n",
       "        vertical-align: middle;\n",
       "    }\n",
       "\n",
       "    .dataframe tbody tr th {\n",
       "        vertical-align: top;\n",
       "    }\n",
       "\n",
       "    .dataframe thead th {\n",
       "        text-align: right;\n",
       "    }\n",
       "</style>\n",
       "<table border=\"1\" class=\"dataframe\">\n",
       "  <thead>\n",
       "    <tr style=\"text-align: right;\">\n",
       "      <th></th>\n",
       "      <th>review_scores_value</th>\n",
       "      <th>price</th>\n",
       "    </tr>\n",
       "  </thead>\n",
       "  <tbody>\n",
       "    <tr>\n",
       "      <th>0</th>\n",
       "      <td>10.0</td>\n",
       "      <td>$85.00</td>\n",
       "    </tr>\n",
       "    <tr>\n",
       "      <th>1</th>\n",
       "      <td>10.0</td>\n",
       "      <td>$150.00</td>\n",
       "    </tr>\n",
       "    <tr>\n",
       "      <th>2</th>\n",
       "      <td>10.0</td>\n",
       "      <td>$975.00</td>\n",
       "    </tr>\n",
       "    <tr>\n",
       "      <th>3</th>\n",
       "      <td>NaN</td>\n",
       "      <td>$100.00</td>\n",
       "    </tr>\n",
       "    <tr>\n",
       "      <th>4</th>\n",
       "      <td>9.0</td>\n",
       "      <td>$450.00</td>\n",
       "    </tr>\n",
       "    <tr>\n",
       "      <th>...</th>\n",
       "      <td>...</td>\n",
       "      <td>...</td>\n",
       "    </tr>\n",
       "    <tr>\n",
       "      <th>3813</th>\n",
       "      <td>8.0</td>\n",
       "      <td>$359.00</td>\n",
       "    </tr>\n",
       "    <tr>\n",
       "      <th>3814</th>\n",
       "      <td>10.0</td>\n",
       "      <td>$79.00</td>\n",
       "    </tr>\n",
       "    <tr>\n",
       "      <th>3815</th>\n",
       "      <td>NaN</td>\n",
       "      <td>$93.00</td>\n",
       "    </tr>\n",
       "    <tr>\n",
       "      <th>3816</th>\n",
       "      <td>NaN</td>\n",
       "      <td>$99.00</td>\n",
       "    </tr>\n",
       "    <tr>\n",
       "      <th>3817</th>\n",
       "      <td>NaN</td>\n",
       "      <td>$87.00</td>\n",
       "    </tr>\n",
       "  </tbody>\n",
       "</table>\n",
       "<p>3818 rows × 2 columns</p>\n",
       "</div>"
      ],
      "text/plain": [
       "      review_scores_value    price\n",
       "0                    10.0   $85.00\n",
       "1                    10.0  $150.00\n",
       "2                    10.0  $975.00\n",
       "3                     NaN  $100.00\n",
       "4                     9.0  $450.00\n",
       "...                   ...      ...\n",
       "3813                  8.0  $359.00\n",
       "3814                 10.0   $79.00\n",
       "3815                  NaN   $93.00\n",
       "3816                  NaN   $99.00\n",
       "3817                  NaN   $87.00\n",
       "\n",
       "[3818 rows x 2 columns]"
      ]
     },
     "execution_count": 55,
     "metadata": {},
     "output_type": "execute_result"
    }
   ],
   "source": [
    "#Selecting quantative columns for both Data Sets\n",
    "df_Boslist=df_Boslist[[\"review_scores_value\",\"price\"]]\n",
    "df_Sealist=df_Sealist[[\"review_scores_value\",\"price\"]]\n",
    "df_Sealist"
   ]
  },
  {
   "cell_type": "code",
   "execution_count": 56,
   "metadata": {},
   "outputs": [
    {
     "name": "stdout",
     "output_type": "stream",
     "text": [
      "Number of missing review_scores_value in Boston Data: 821\n",
      "Number of missing price in Boston Data: 0\n"
     ]
    }
   ],
   "source": [
    "# Finding missing values in review_scores_value and Price Column for Boston Data Set\n",
    "m = np.sum(df_Boslist.review_scores_value.isnull())\n",
    "print(\"Number of missing review_scores_value in Boston Data:\",m)\n",
    "n = np.sum(df_Boslist.price.isnull())\n",
    "print(\"Number of missing price in Boston Data:\",n)"
   ]
  },
  {
   "cell_type": "code",
   "execution_count": 58,
   "metadata": {},
   "outputs": [
    {
     "name": "stdout",
     "output_type": "stream",
     "text": [
      "Number of missing review_scores_value in Seattle Data: 656\n",
      "Number of missing price in Seattle Data: 0\n"
     ]
    }
   ],
   "source": [
    "# Finding missing values in review_scores_value and Price Column for Seatle Data Set\n",
    "m = np.sum(df_Sealist.review_scores_value.isnull())\n",
    "print(\"Number of missing review_scores_value in Seattle Data:\",m)\n",
    "n = np.sum(df_Sealist.price.isnull())\n",
    "print(\"Number of missing price in Seattle Data:\",n)"
   ]
  },
  {
   "cell_type": "code",
   "execution_count": 59,
   "metadata": {},
   "outputs": [],
   "source": [
    "#Droping missing values from both Data Sets\n",
    "RBos_Dout = df_Boslist.dropna(subset=['review_scores_value'],axis =0)\n",
    "RSea_Dout = df_Sealist.dropna(subset=['review_scores_value'],axis =0)"
   ]
  },
  {
   "cell_type": "code",
   "execution_count": 60,
   "metadata": {},
   "outputs": [
    {
     "data": {
      "text/html": [
       "<div>\n",
       "<style scoped>\n",
       "    .dataframe tbody tr th:only-of-type {\n",
       "        vertical-align: middle;\n",
       "    }\n",
       "\n",
       "    .dataframe tbody tr th {\n",
       "        vertical-align: top;\n",
       "    }\n",
       "\n",
       "    .dataframe thead th {\n",
       "        text-align: right;\n",
       "    }\n",
       "</style>\n",
       "<table border=\"1\" class=\"dataframe\">\n",
       "  <thead>\n",
       "    <tr style=\"text-align: right;\">\n",
       "      <th></th>\n",
       "      <th>review_scores_value</th>\n",
       "      <th>price</th>\n",
       "    </tr>\n",
       "  </thead>\n",
       "  <tbody>\n",
       "    <tr>\n",
       "      <th>1</th>\n",
       "      <td>9.0</td>\n",
       "      <td>$65.00</td>\n",
       "    </tr>\n",
       "    <tr>\n",
       "      <th>2</th>\n",
       "      <td>10.0</td>\n",
       "      <td>$65.00</td>\n",
       "    </tr>\n",
       "    <tr>\n",
       "      <th>3</th>\n",
       "      <td>10.0</td>\n",
       "      <td>$75.00</td>\n",
       "    </tr>\n",
       "    <tr>\n",
       "      <th>4</th>\n",
       "      <td>10.0</td>\n",
       "      <td>$79.00</td>\n",
       "    </tr>\n",
       "    <tr>\n",
       "      <th>5</th>\n",
       "      <td>10.0</td>\n",
       "      <td>$75.00</td>\n",
       "    </tr>\n",
       "    <tr>\n",
       "      <th>...</th>\n",
       "      <td>...</td>\n",
       "      <td>...</td>\n",
       "    </tr>\n",
       "    <tr>\n",
       "      <th>3574</th>\n",
       "      <td>8.0</td>\n",
       "      <td>$68.00</td>\n",
       "    </tr>\n",
       "    <tr>\n",
       "      <th>3575</th>\n",
       "      <td>7.0</td>\n",
       "      <td>$69.00</td>\n",
       "    </tr>\n",
       "    <tr>\n",
       "      <th>3578</th>\n",
       "      <td>10.0</td>\n",
       "      <td>$85.00</td>\n",
       "    </tr>\n",
       "    <tr>\n",
       "      <th>3580</th>\n",
       "      <td>9.0</td>\n",
       "      <td>$69.00</td>\n",
       "    </tr>\n",
       "    <tr>\n",
       "      <th>3583</th>\n",
       "      <td>7.0</td>\n",
       "      <td>$65.00</td>\n",
       "    </tr>\n",
       "  </tbody>\n",
       "</table>\n",
       "<p>2764 rows × 2 columns</p>\n",
       "</div>"
      ],
      "text/plain": [
       "      review_scores_value   price\n",
       "1                     9.0  $65.00\n",
       "2                    10.0  $65.00\n",
       "3                    10.0  $75.00\n",
       "4                    10.0  $79.00\n",
       "5                    10.0  $75.00\n",
       "...                   ...     ...\n",
       "3574                  8.0  $68.00\n",
       "3575                  7.0  $69.00\n",
       "3578                 10.0  $85.00\n",
       "3580                  9.0  $69.00\n",
       "3583                  7.0  $65.00\n",
       "\n",
       "[2764 rows x 2 columns]"
      ]
     },
     "execution_count": 60,
     "metadata": {},
     "output_type": "execute_result"
    }
   ],
   "source": [
    "RBos_Dout"
   ]
  },
  {
   "cell_type": "code",
   "execution_count": 61,
   "metadata": {},
   "outputs": [],
   "source": [
    "#Finding Positive and Negative reviews\n",
    "def Pos_neg_review(x):\n",
    "    if x >= 5: \n",
    "        return 1\n",
    "    else: return 0"
   ]
  },
  {
   "cell_type": "code",
   "execution_count": 62,
   "metadata": {},
   "outputs": [],
   "source": [
    "m = RBos_Dout.shape[0]\n",
    "RBos_Dout=pd.DataFrame(RBos_Dout)\n",
    "RSea_Dout=pd.DataFrame(RSea_Dout)"
   ]
  },
  {
   "cell_type": "code",
   "execution_count": 63,
   "metadata": {},
   "outputs": [
    {
     "data": {
      "text/html": [
       "<div>\n",
       "<style scoped>\n",
       "    .dataframe tbody tr th:only-of-type {\n",
       "        vertical-align: middle;\n",
       "    }\n",
       "\n",
       "    .dataframe tbody tr th {\n",
       "        vertical-align: top;\n",
       "    }\n",
       "\n",
       "    .dataframe thead th {\n",
       "        text-align: right;\n",
       "    }\n",
       "</style>\n",
       "<table border=\"1\" class=\"dataframe\">\n",
       "  <thead>\n",
       "    <tr style=\"text-align: right;\">\n",
       "      <th></th>\n",
       "      <th>review_scores_value</th>\n",
       "      <th>price</th>\n",
       "      <th>Review_Pos_Neg</th>\n",
       "    </tr>\n",
       "  </thead>\n",
       "  <tbody>\n",
       "    <tr>\n",
       "      <th>0</th>\n",
       "      <td>10.0</td>\n",
       "      <td>$85.00</td>\n",
       "      <td>NaN</td>\n",
       "    </tr>\n",
       "    <tr>\n",
       "      <th>1</th>\n",
       "      <td>10.0</td>\n",
       "      <td>$150.00</td>\n",
       "      <td>1.0</td>\n",
       "    </tr>\n",
       "    <tr>\n",
       "      <th>2</th>\n",
       "      <td>10.0</td>\n",
       "      <td>$975.00</td>\n",
       "      <td>1.0</td>\n",
       "    </tr>\n",
       "    <tr>\n",
       "      <th>4</th>\n",
       "      <td>9.0</td>\n",
       "      <td>$450.00</td>\n",
       "      <td>1.0</td>\n",
       "    </tr>\n",
       "    <tr>\n",
       "      <th>5</th>\n",
       "      <td>10.0</td>\n",
       "      <td>$120.00</td>\n",
       "      <td>1.0</td>\n",
       "    </tr>\n",
       "    <tr>\n",
       "      <th>...</th>\n",
       "      <td>...</td>\n",
       "      <td>...</td>\n",
       "      <td>...</td>\n",
       "    </tr>\n",
       "    <tr>\n",
       "      <th>3810</th>\n",
       "      <td>8.0</td>\n",
       "      <td>$154.00</td>\n",
       "      <td>NaN</td>\n",
       "    </tr>\n",
       "    <tr>\n",
       "      <th>3811</th>\n",
       "      <td>10.0</td>\n",
       "      <td>$65.00</td>\n",
       "      <td>NaN</td>\n",
       "    </tr>\n",
       "    <tr>\n",
       "      <th>3812</th>\n",
       "      <td>10.0</td>\n",
       "      <td>$95.00</td>\n",
       "      <td>NaN</td>\n",
       "    </tr>\n",
       "    <tr>\n",
       "      <th>3813</th>\n",
       "      <td>8.0</td>\n",
       "      <td>$359.00</td>\n",
       "      <td>NaN</td>\n",
       "    </tr>\n",
       "    <tr>\n",
       "      <th>3814</th>\n",
       "      <td>10.0</td>\n",
       "      <td>$79.00</td>\n",
       "      <td>NaN</td>\n",
       "    </tr>\n",
       "  </tbody>\n",
       "</table>\n",
       "<p>3162 rows × 3 columns</p>\n",
       "</div>"
      ],
      "text/plain": [
       "      review_scores_value    price  Review_Pos_Neg\n",
       "0                    10.0   $85.00             NaN\n",
       "1                    10.0  $150.00             1.0\n",
       "2                    10.0  $975.00             1.0\n",
       "4                     9.0  $450.00             1.0\n",
       "5                    10.0  $120.00             1.0\n",
       "...                   ...      ...             ...\n",
       "3810                  8.0  $154.00             NaN\n",
       "3811                 10.0   $65.00             NaN\n",
       "3812                 10.0   $95.00             NaN\n",
       "3813                  8.0  $359.00             NaN\n",
       "3814                 10.0   $79.00             NaN\n",
       "\n",
       "[3162 rows x 3 columns]"
      ]
     },
     "execution_count": 63,
     "metadata": {},
     "output_type": "execute_result"
    }
   ],
   "source": [
    "RBos_Dout['Review_Pos_Neg'] = RBos_Dout.loc[:,('review_scores_value')].apply(Pos_neg_review)\n",
    "RSea_Dout['Review_Pos_Neg'] = RBos_Dout.loc[:,('review_scores_value')].apply(Pos_neg_review)\n",
    "RSea_Dout"
   ]
  },
  {
   "cell_type": "code",
   "execution_count": 64,
   "metadata": {},
   "outputs": [],
   "source": [
    "#Cleaning price column for Both Data Sets\n",
    "Clean_Data = RBos_Dout.copy()\n",
    "Clean_Data['price'] = Clean_Data['price'].astype(str)\n",
    "Clean_Data['price']= Clean_Data['price'].str.replace('$','')\n",
    "Clean_Data['price']= Clean_Data['price'].str.replace(',','')\n",
    "Clean_Data['price'] = Clean_Data['price'].astype(float)\n",
    "Clean_Data2 = RSea_Dout.copy()\n",
    "Clean_Data2['price'] = Clean_Data2['price'].astype(str)\n",
    "Clean_Data2['price']= Clean_Data2['price'].str.replace('$','')\n",
    "Clean_Data2['price']= Clean_Data2['price'].str.replace(',','')\n",
    "Clean_Data2['price'] = Clean_Data2['price'].astype(float)"
   ]
  },
  {
   "cell_type": "code",
   "execution_count": 65,
   "metadata": {},
   "outputs": [
    {
     "name": "stdout",
     "output_type": "stream",
     "text": [
      "Number of positive review in Boston Data: 2743\n",
      "Number of negative review in Boston Data: 21\n"
     ]
    }
   ],
   "source": [
    "m=np.sum(Clean_Data['Review_Pos_Neg']==1)\n",
    "print(\"Number of positive review in Boston Data:\",m)\n",
    "n=np.sum(Clean_Data['Review_Pos_Neg']==0)\n",
    "print(\"Number of negative review in Boston Data:\",n)"
   ]
  },
  {
   "cell_type": "code",
   "execution_count": 66,
   "metadata": {},
   "outputs": [
    {
     "data": {
      "image/png": "[encoded data removed]",
      "text/plain": [
       "<Figure size 432x288 with 1 Axes>"
      ]
     },
     "metadata": {},
     "output_type": "display_data"
    }
   ],
   "source": [
    "#Plotting number of positive review and negative reviews in terms of price for Boston Data set\n",
    "sns.set_theme(style=\"whitegrid\")\n",
    "Clean_Data.plot(kind='scatter',x='Review_Pos_Neg',y='price',color='red')\n",
    "plt.show()"
   ]
  },
  {
   "cell_type": "code",
   "execution_count": 67,
   "metadata": {},
   "outputs": [
    {
     "name": "stdout",
     "output_type": "stream",
     "text": [
      "Number of positive review in Seatle Data: 2265\n",
      "Number of negative review in Seattle Data: 18\n"
     ]
    }
   ],
   "source": [
    "m=np.sum(Clean_Data2['Review_Pos_Neg']==1)\n",
    "print(\"Number of positive review in Seatle Data:\",m)\n",
    "n=np.sum(Clean_Data2['Review_Pos_Neg']==0)\n",
    "print(\"Number of negative review in Seattle Data:\",n)"
   ]
  },
  {
   "cell_type": "code",
   "execution_count": 68,
   "metadata": {},
   "outputs": [
    {
     "data": {
      "image/png": "[encoded data removed]",
      "text/plain": [
       "<Figure size 432x288 with 1 Axes>"
      ]
     },
     "metadata": {},
     "output_type": "display_data"
    }
   ],
   "source": [
    "#Plotting number of positive review and negative reviews in terms of price for Seattle Data set\n",
    "Clean_Data2.plot(kind='scatter',x='Review_Pos_Neg',y='price',color='red')\n",
    "plt.show()"
   ]
  }
 ],
 "metadata": {
  "kernelspec": {
   "display_name": "Python 3",
   "language": "python",
   "name": "python3"
  },
  "language_info": {
   "codemirror_mode": {
    "name": "ipython",
    "version": 3
   },
   "file_extension": ".py",
   "mimetype": "text/x-python",
   "name": "python",
   "nbconvert_exporter": "python",
   "pygments_lexer": "ipython3",
   "version": "3.8.5"
  }
 },
 "nbformat": 4,
 "nbformat_minor": 4
}
